{
 "cells": [
  {
   "cell_type": "code",
   "execution_count": 1,
   "metadata": {},
   "outputs": [],
   "source": [
    "%matplotlib inline\n",
    "from matplotlib import style\n",
    "style.use('fivethirtyeight')\n",
    "import matplotlib.pyplot as plt"
   ]
  },
  {
   "cell_type": "code",
   "execution_count": 2,
   "metadata": {},
   "outputs": [],
   "source": [
    "import numpy as np\n",
    "import pandas as pd"
   ]
  },
  {
   "cell_type": "code",
   "execution_count": 3,
   "metadata": {},
   "outputs": [],
   "source": [
    "import datetime as dt"
   ]
  },
  {
   "cell_type": "markdown",
   "metadata": {},
   "source": [
    "# Reflect Tables into SQLAlchemy ORM"
   ]
  },
  {
   "cell_type": "code",
   "execution_count": 4,
   "metadata": {},
   "outputs": [],
   "source": [
    "# Python SQL toolkit and Object Relational Mapper\n",
    "import sqlalchemy\n",
    "from sqlalchemy.ext.automap import automap_base\n",
    "from sqlalchemy.orm import Session\n",
    "from sqlalchemy import create_engine, func"
   ]
  },
  {
   "cell_type": "code",
   "execution_count": 5,
   "metadata": {},
   "outputs": [],
   "source": [
    "engine = create_engine(\"sqlite:///Resources/hawaii.sqlite\")"
   ]
  },
  {
   "cell_type": "code",
   "execution_count": 7,
   "metadata": {},
   "outputs": [],
   "source": [
    "# reflect an existing database into a new model\n",
    "Base = automap_base()\n",
    "\n",
    "# reflect the tables\n",
    "Base.prepare(engine, reflect=True)"
   ]
  },
  {
   "cell_type": "code",
   "execution_count": 11,
   "metadata": {},
   "outputs": [],
   "source": [
    "# We can view all of the classes that automap found\n",
    "Base.classes.keys()\n"
   ]
  },
  {
   "cell_type": "code",
   "execution_count": null,
   "metadata": {},
   "outputs": [],
   "source": [
    "# Save references to each table\n",
    "\n",
    "measurement = Base.classes.measurement\n",
    "station=Base.classes.station"
   ]
  },
  {
   "cell_type": "code",
   "execution_count": 12,
   "metadata": {},
   "outputs": [],
   "source": [
    "# Create our session (link) from Python to the DB\n",
    "session=Session(engine)"
   ]
  },
  {
   "cell_type": "markdown",
   "metadata": {},
   "source": [
    "# Exploratory Climate Analysis"
   ]
  },
  {
   "cell_type": "code",
   "execution_count": 17,
   "metadata": {},
   "outputs": [
    {
     "data": {
      "text/plain": [
       "{'_sa_instance_state': <sqlalchemy.orm.state.InstanceState at 0x11fb74fd0>,\n",
       " 'station': 'USC00519397',\n",
       " 'prcp': 0.08,\n",
       " 'tobs': 65.0,\n",
       " 'id': 1,\n",
       " 'date': '2010-01-01'}"
      ]
     },
     "execution_count": 17,
     "metadata": {},
     "output_type": "execute_result"
    }
   ],
   "source": [
    "first_row = session.query(measurement).first()\n",
    "first_row.__dict__"
   ]
  },
  {
   "cell_type": "code",
   "execution_count": 19,
   "metadata": {},
   "outputs": [
    {
     "data": {
      "text/plain": [
       "{'_sa_instance_state': <sqlalchemy.orm.state.InstanceState at 0x11fcd6190>,\n",
       " 'station': 'USC00519397',\n",
       " 'latitude': 21.2716,\n",
       " 'elevation': 3.0,\n",
       " 'name': 'WAIKIKI 717.2, HI US',\n",
       " 'id': 1,\n",
       " 'longitude': -157.8168}"
      ]
     },
     "execution_count": 19,
     "metadata": {},
     "output_type": "execute_result"
    }
   ],
   "source": [
    "first_row = session.query(station).first()\n",
    "first_row.__dict__"
   ]
  },
  {
   "cell_type": "code",
   "execution_count": 29,
   "metadata": {},
   "outputs": [
    {
     "name": "stdout",
     "output_type": "stream",
     "text": [
      "id INTEGER\n",
      "station TEXT\n",
      "date TEXT\n",
      "prcp FLOAT\n",
      "tobs FLOAT\n"
     ]
    }
   ],
   "source": [
    "columns = inspector.get_columns('measurement')\n",
    "for column in columns:\n",
    "    print(column[\"name\"], column[\"type\"])"
   ]
  },
  {
   "cell_type": "code",
   "execution_count": 30,
   "metadata": {},
   "outputs": [
    {
     "name": "stdout",
     "output_type": "stream",
     "text": [
      "id INTEGER\n",
      "station TEXT\n",
      "name TEXT\n",
      "latitude FLOAT\n",
      "longitude FLOAT\n",
      "elevation FLOAT\n"
     ]
    }
   ],
   "source": [
    "columns = inspector.get_columns('station')\n",
    "for column in columns:\n",
    "    print(column[\"name\"], column[\"type\"])"
   ]
  },
  {
   "cell_type": "code",
   "execution_count": 26,
   "metadata": {},
   "outputs": [
    {
     "name": "stdout",
     "output_type": "stream",
     "text": [
      "('2010-01-01', 0.08)\n",
      "('2010-01-02', 0.0)\n",
      "('2010-01-03', 0.0)\n",
      "('2010-01-04', 0.0)\n",
      "('2010-01-06', None)\n",
      "('2010-01-07', 0.06)\n",
      "('2010-01-08', 0.0)\n",
      "('2010-01-09', 0.0)\n",
      "('2010-01-10', 0.0)\n",
      "('2010-01-11', 0.01)\n",
      "('2010-01-12', 0.0)\n",
      "('2010-01-14', 0.0)\n",
      "('2010-01-15', 0.0)\n",
      "('2010-01-16', 0.0)\n",
      "('2010-01-17', 0.0)\n",
      "('2010-01-18', 0.0)\n",
      "('2010-01-19', 0.0)\n",
      "('2010-01-20', 0.0)\n",
      "('2010-01-21', 0.0)\n",
      "('2010-01-22', 0.0)\n",
      "('2010-01-23', 0.0)\n",
      "('2010-01-24', 0.01)\n",
      "('2010-01-25', 0.0)\n",
      "('2010-01-26', 0.04)\n",
      "('2010-01-27', 0.12)\n",
      "('2010-01-28', 0.0)\n",
      "('2010-01-30', None)\n",
      "('2010-01-31', 0.03)\n",
      "('2010-02-01', 0.01)\n",
      "('2010-02-03', None)\n",
      "('2010-02-04', 0.01)\n",
      "('2010-02-05', 0.0)\n",
      "('2010-02-06', 0.0)\n",
      "('2010-02-07', 0.0)\n",
      "('2010-02-08', 0.0)\n",
      "('2010-02-09', 0.0)\n",
      "('2010-02-11', 0.0)\n",
      "('2010-02-12', 0.02)\n",
      "('2010-02-13', 0.01)\n",
      "('2010-02-14', 0.0)\n",
      "('2010-02-15', 0.0)\n",
      "('2010-02-16', 0.0)\n",
      "('2010-02-17', 0.0)\n",
      "('2010-02-19', None)\n",
      "('2010-02-20', 0.03)\n",
      "('2010-02-21', 0.0)\n",
      "('2010-02-22', 0.0)\n",
      "('2010-02-23', 0.0)\n",
      "('2010-02-24', 0.0)\n",
      "('2010-02-25', 0.0)\n",
      "('2010-02-26', 0.0)\n",
      "('2010-02-28', 0.0)\n",
      "('2010-03-01', 0.01)\n",
      "('2010-03-02', 0.0)\n",
      "('2010-03-03', 0.0)\n",
      "('2010-03-04', 0.12)\n",
      "('2010-03-05', 0.08)\n",
      "('2010-03-06', 0.03)\n",
      "('2010-03-07', 0.0)\n",
      "('2010-03-08', 0.43)\n",
      "('2010-03-09', 0.06)\n",
      "('2010-03-11', None)\n",
      "('2010-03-12', 0.0)\n",
      "('2010-03-13', 0.0)\n",
      "('2010-03-14', 0.0)\n",
      "('2010-03-15', 0.06)\n",
      "('2010-03-17', 0.0)\n",
      "('2010-03-18', 0.0)\n",
      "('2010-03-21', 0.0)\n",
      "('2010-03-22', 0.0)\n",
      "('2010-03-23', 0.0)\n",
      "('2010-03-24', 0.0)\n",
      "('2010-03-26', None)\n",
      "('2010-03-27', 0.0)\n",
      "('2010-03-28', 0.0)\n",
      "('2010-03-29', 0.0)\n",
      "('2010-03-30', 0.0)\n",
      "('2010-03-31', 0.0)\n",
      "('2010-04-01', 0.0)\n",
      "('2010-04-02', 0.01)\n",
      "('2010-04-03', 0.17)\n",
      "('2010-04-04', 0.15)\n",
      "('2010-04-05', 0.27)\n",
      "('2010-04-06', 0.01)\n",
      "('2010-04-08', 0.0)\n",
      "('2010-04-09', 0.01)\n",
      "('2010-04-10', 0.0)\n",
      "('2010-04-11', 0.01)\n",
      "('2010-04-12', 0.01)\n",
      "('2010-04-13', 0.0)\n",
      "('2010-04-15', 0.0)\n",
      "('2010-04-16', 0.01)\n",
      "('2010-04-17', 0.0)\n",
      "('2010-04-18', 0.0)\n",
      "('2010-04-19', 0.0)\n",
      "('2010-04-20', 0.04)\n",
      "('2010-04-21', 0.01)\n",
      "('2010-04-22', 0.0)\n",
      "('2010-04-23', 0.02)\n",
      "('2010-04-24', 0.0)\n",
      "('2010-04-25', 0.0)\n",
      "('2010-04-26', 0.0)\n",
      "('2010-04-28', 0.0)\n",
      "('2010-04-30', 0.0)\n",
      "('2010-05-01', 0.0)\n",
      "('2010-05-02', 0.03)\n",
      "('2010-05-03', 0.2)\n",
      "('2010-05-04', 0.08)\n",
      "('2010-05-05', 0.01)\n",
      "('2010-05-06', 0.0)\n",
      "('2010-05-07', 0.05)\n",
      "('2010-05-08', 0.0)\n",
      "('2010-05-09', 0.0)\n",
      "('2010-05-10', 0.0)\n",
      "('2010-05-11', 0.0)\n",
      "('2010-05-13', 0.0)\n",
      "('2010-05-14', 0.0)\n",
      "('2010-05-15', 0.0)\n",
      "('2010-05-16', 0.03)\n",
      "('2010-05-17', 0.0)\n",
      "('2010-05-18', 0.0)\n",
      "('2010-05-19', 0.0)\n",
      "('2010-05-21', None)\n",
      "('2010-05-22', 0.0)\n",
      "('2010-05-23', 0.05)\n",
      "('2010-05-24', 0.0)\n",
      "('2010-05-25', 0.0)\n",
      "('2010-05-26', 0.02)\n",
      "('2010-05-27', 0.0)\n",
      "('2010-05-28', 0.0)\n",
      "('2010-05-29', 0.0)\n",
      "('2010-05-30', 0.0)\n",
      "('2010-05-31', 0.0)\n",
      "('2010-06-01', 0.0)\n",
      "('2010-06-02', 0.01)\n",
      "('2010-06-03', 0.0)\n",
      "('2010-06-04', 0.0)\n",
      "('2010-06-05', 0.0)\n",
      "('2010-06-06', 0.0)\n",
      "('2010-06-07', 0.0)\n",
      "('2010-06-08', 0.0)\n",
      "('2010-06-09', 0.0)\n",
      "('2010-06-10', 0.0)\n",
      "('2010-06-11', 0.0)\n",
      "('2010-06-12', 0.0)\n",
      "('2010-06-13', 0.0)\n",
      "('2010-06-14', 0.0)\n",
      "('2010-06-15', 0.0)\n",
      "('2010-06-16', 0.0)\n",
      "('2010-06-17', 0.0)\n",
      "('2010-06-18', 0.0)\n",
      "('2010-06-19', 0.0)\n",
      "('2010-06-20', 0.0)\n",
      "('2010-06-21', 0.0)\n",
      "('2010-06-22', 0.0)\n",
      "('2010-06-23', 0.0)\n",
      "('2010-06-24', 0.0)\n",
      "('2010-06-25', 0.0)\n",
      "('2010-06-26', 0.02)\n",
      "('2010-06-27', 0.0)\n",
      "('2010-06-28', 0.0)\n",
      "('2010-06-29', 0.0)\n",
      "('2010-06-30', 0.0)\n",
      "('2010-07-01', 0.01)\n",
      "('2010-07-02', 0.05)\n",
      "('2010-07-03', 0.09)\n",
      "('2010-07-04', 0.05)\n",
      "('2010-07-05', 0.06)\n",
      "('2010-07-06', 0.08)\n",
      "('2010-07-07', 0.08)\n",
      "('2010-07-08', 0.03)\n",
      "('2010-07-09', 0.06)\n",
      "('2010-07-10', 0.09)\n",
      "('2010-07-11', 0.0)\n",
      "('2010-07-12', 0.0)\n",
      "('2010-07-13', 0.0)\n",
      "('2010-07-16', None)\n",
      "('2010-07-17', 0.02)\n",
      "('2010-07-18', 0.0)\n",
      "('2010-07-19', 0.04)\n",
      "('2010-07-21', 0.0)\n",
      "('2010-07-22', 0.0)\n",
      "('2010-07-24', 0.0)\n",
      "('2010-07-25', 0.0)\n",
      "('2010-07-26', 0.0)\n",
      "('2010-07-27', 0.0)\n",
      "('2010-07-28', 0.0)\n",
      "('2010-07-29', 0.0)\n",
      "('2010-07-30', 0.0)\n",
      "('2010-07-31', 0.02)\n",
      "('2010-08-01', 0.04)\n",
      "('2010-08-02', 0.01)\n",
      "('2010-08-03', 0.02)\n",
      "('2010-08-04', 0.07)\n",
      "('2010-08-05', 0.08)\n",
      "('2010-08-06', 0.03)\n",
      "('2010-08-07', 0.0)\n",
      "('2010-08-08', 0.0)\n",
      "('2010-08-09', 0.0)\n",
      "('2010-08-10', 0.0)\n",
      "('2010-08-11', 0.0)\n",
      "('2010-08-12', 0.0)\n",
      "('2010-08-13', 0.0)\n",
      "('2010-08-14', 0.0)\n",
      "('2010-08-15', 0.01)\n",
      "('2010-08-16', 0.0)\n",
      "('2010-08-17', 0.05)\n",
      "('2010-08-18', 0.0)\n",
      "('2010-08-19', 0.0)\n",
      "('2010-08-20', 0.0)\n",
      "('2010-08-21', 0.0)\n",
      "('2010-08-22', 0.0)\n",
      "('2010-08-23', 0.01)\n",
      "('2010-08-24', 0.0)\n",
      "('2010-08-25', 0.04)\n",
      "('2010-08-26', 0.03)\n",
      "('2010-08-27', 0.0)\n",
      "('2010-08-28', 0.04)\n",
      "('2010-08-29', 0.0)\n",
      "('2010-08-30', 0.0)\n",
      "('2010-08-31', 0.0)\n",
      "('2010-09-01', 0.0)\n",
      "('2010-09-02', 0.02)\n",
      "('2010-09-03', 0.04)\n",
      "('2010-09-04', 0.01)\n",
      "('2010-09-05', 0.0)\n",
      "('2010-09-06', 0.0)\n",
      "('2010-09-07', 0.06)\n",
      "('2010-09-08', 0.0)\n",
      "('2010-09-09', 0.0)\n",
      "('2010-09-10', 0.0)\n",
      "('2010-09-11', 0.05)\n",
      "('2010-09-12', 0.0)\n",
      "('2010-09-13', 0.0)\n",
      "('2010-09-14', 0.0)\n",
      "('2010-09-15', 0.0)\n",
      "('2010-09-16', 0.0)\n",
      "('2010-09-17', 0.0)\n",
      "('2010-09-19', 0.0)\n",
      "('2010-09-20', 0.0)\n",
      "('2010-09-21', 0.0)\n",
      "('2010-09-22', 0.04)\n",
      "('2010-09-23', 0.0)\n",
      "('2010-09-24', 0.0)\n",
      "('2010-09-25', 0.0)\n",
      "('2010-09-26', 0.0)\n",
      "('2010-09-27', 0.0)\n",
      "('2010-09-28', 0.0)\n",
      "('2010-09-29', 0.0)\n",
      "('2010-09-30', 0.57)\n",
      "('2010-10-01', 0.31)\n",
      "('2010-10-02', 0.03)\n",
      "('2010-10-03', 0.0)\n",
      "('2010-10-04', 0.06)\n",
      "('2010-10-05', 0.0)\n",
      "('2010-10-06', 0.0)\n",
      "('2010-10-07', 0.0)\n",
      "('2010-10-08', 0.0)\n",
      "('2010-10-09', 0.0)\n",
      "('2010-10-10', 0.0)\n",
      "('2010-10-11', 0.0)\n",
      "('2010-10-12', 0.0)\n",
      "('2010-10-13', 0.0)\n",
      "('2010-10-15', 0.0)\n",
      "('2010-10-16', 0.0)\n",
      "('2010-10-17', 0.0)\n",
      "('2010-10-18', 0.0)\n",
      "('2010-10-19', 0.07)\n",
      "('2010-10-20', 0.0)\n",
      "('2010-10-21', 0.0)\n",
      "('2010-10-22', 0.0)\n",
      "('2010-10-23', 0.0)\n",
      "('2010-10-24', 0.0)\n",
      "('2010-10-25', 0.0)\n",
      "('2010-10-26', 0.07)\n",
      "('2010-10-27', 0.05)\n",
      "('2010-10-28', 0.06)\n",
      "('2010-10-29', 0.03)\n",
      "('2010-10-30', 0.02)\n",
      "('2010-10-31', 0.0)\n",
      "('2010-11-01', 0.01)\n",
      "('2010-11-02', 0.01)\n",
      "('2010-11-04', None)\n",
      "('2010-11-05', 0.0)\n",
      "('2010-11-06', 0.0)\n",
      "('2010-11-07', 0.0)\n",
      "('2010-11-08', 0.0)\n",
      "('2010-11-09', 0.0)\n",
      "('2010-11-10', 0.23)\n",
      "('2010-11-11', 0.0)\n",
      "('2010-11-12', 0.0)\n",
      "('2010-11-13', 0.0)\n",
      "('2010-11-16', 0.0)\n",
      "('2010-11-17', 0.0)\n",
      "('2010-11-19', None)\n",
      "('2010-11-20', 0.03)\n",
      "('2010-11-21', 0.0)\n",
      "('2010-11-22', 0.0)\n",
      "('2010-11-23', 0.0)\n",
      "('2010-11-24', 0.0)\n",
      "('2010-11-25', 0.0)\n",
      "('2010-11-27', 0.0)\n",
      "('2010-11-28', 0.0)\n",
      "('2010-11-29', 0.0)\n",
      "('2010-11-30', 0.0)\n",
      "('2010-12-01', 0.04)\n",
      "('2010-12-03', 0.0)\n",
      "('2010-12-04', 0.0)\n",
      "('2010-12-06', 0.0)\n",
      "('2010-12-07', 0.0)\n",
      "('2010-12-08', 0.0)\n",
      "('2010-12-09', 0.0)\n",
      "('2010-12-10', 1.58)\n",
      "('2010-12-11', 0.77)\n",
      "('2010-12-12', 0.0)\n",
      "('2010-12-13', 0.0)\n",
      "('2010-12-14', 0.0)\n",
      "('2010-12-15', 0.0)\n",
      "('2010-12-16', 0.0)\n",
      "('2010-12-17', 0.0)\n",
      "('2010-12-18', 0.0)\n",
      "('2010-12-19', 1.4)\n",
      "('2010-12-23', 0.0)\n",
      "('2010-12-24', 0.0)\n",
      "('2010-12-26', None)\n",
      "('2010-12-27', 0.13)\n",
      "('2010-12-28', 0.55)\n",
      "('2010-12-29', 0.06)\n",
      "('2010-12-30', 0.01)\n",
      "('2010-12-31', 0.0)\n"
     ]
    }
   ],
   "source": [
    "# Design a query to retrieve the last 12 months of precipitation data and plot the results\n",
    "for row in session.query(measurement.date,measurement.prcp).limit(330).all():\n",
    "    print(row)\n",
    "    "
   ]
  },
  {
   "cell_type": "code",
   "execution_count": 39,
   "metadata": {},
   "outputs": [
    {
     "ename": "SyntaxError",
     "evalue": "keyword can't be an expression (<ipython-input-39-6ba690acbabe>, line 3)",
     "output_type": "error",
     "traceback": [
      "\u001b[0;36m  File \u001b[0;32m\"<ipython-input-39-6ba690acbabe>\"\u001b[0;36m, line \u001b[0;32m3\u001b[0m\n\u001b[0;31m    filter_by(measurement.date=\"2018-08-23\")\u001b[0m\n\u001b[0m             ^\u001b[0m\n\u001b[0;31mSyntaxError\u001b[0m\u001b[0;31m:\u001b[0m keyword can't be an expression\n"
     ]
    }
   ],
   "source": [
    "# Calculate the date 1 year ago from the last data point in the database\n"
   ]
  },
  {
   "cell_type": "code",
   "execution_count": null,
   "metadata": {},
   "outputs": [],
   "source": [
    "# Perform a query to retrieve the data and precipitation scores\n",
    "for row in session.query(Dow.stock, Dow.volume).limit(15).all():\n",
    "    print(row)"
   ]
  },
  {
   "cell_type": "code",
   "execution_count": null,
   "metadata": {},
   "outputs": [],
   "source": [
    "# Save the query results as a Pandas DataFrame and set the index to the date column\n"
   ]
  },
  {
   "cell_type": "code",
   "execution_count": null,
   "metadata": {},
   "outputs": [],
   "source": [
    "# Sort the dataframe by date\n"
   ]
  },
  {
   "cell_type": "code",
   "execution_count": null,
   "metadata": {},
   "outputs": [],
   "source": [
    "# Use Pandas Plotting with Matplotlib to plot the data\n"
   ]
  },
  {
   "cell_type": "code",
   "execution_count": null,
   "metadata": {},
   "outputs": [],
   "source": [
    "# Use Pandas to calcualte the summary statistics for the precipitation data"
   ]
  },
  {
   "cell_type": "code",
   "execution_count": null,
   "metadata": {},
   "outputs": [],
   "source": [
    "# Design a query to show how many stations are available in this dataset?\n"
   ]
  },
  {
   "cell_type": "code",
   "execution_count": null,
   "metadata": {},
   "outputs": [],
   "source": [
    "# What are the most active stations? (i.e. what stations have the most rows)?\n",
    "# List the stations and the counts in descending order.\n"
   ]
  },
  {
   "cell_type": "code",
   "execution_count": null,
   "metadata": {},
   "outputs": [],
   "source": [
    "# Using the station id from the previous query, calculate the lowest temperature recorded, \n",
    "# highest temperature recorded, and average temperature of the most active station?\n"
   ]
  },
  {
   "cell_type": "code",
   "execution_count": null,
   "metadata": {},
   "outputs": [],
   "source": [
    "# Choose the station with the highest number of temperature observations.\n",
    "# Query the last 12 months of temperature observation data for this station and plot the results as a histogram\n"
   ]
  },
  {
   "cell_type": "markdown",
   "metadata": {},
   "source": [
    "## Bonus Challenge Assignment"
   ]
  },
  {
   "cell_type": "code",
   "execution_count": null,
   "metadata": {},
   "outputs": [],
   "source": [
    "# This function called `calc_temps` will accept start date and end date in the format '%Y-%m-%d' \n",
    "# and return the minimum, average, and maximum temperatures for that range of dates\n",
    "def calc_temps(start_date, end_date):\n",
    "    \"\"\"TMIN, TAVG, and TMAX for a list of dates.\n",
    "    \n",
    "    Args:\n",
    "        start_date (string): A date string in the format %Y-%m-%d\n",
    "        end_date (string): A date string in the format %Y-%m-%d\n",
    "        \n",
    "    Returns:\n",
    "        TMIN, TAVE, and TMAX\n",
    "    \"\"\"\n",
    "    \n",
    "    return session.query(func.min(Measurement.tobs), func.avg(Measurement.tobs), func.max(Measurement.tobs)).\\\n",
    "        filter(Measurement.date >= start_date).filter(Measurement.date <= end_date).all()\n",
    "\n",
    "# function usage example\n",
    "print(calc_temps('2012-02-28', '2012-03-05'))"
   ]
  },
  {
   "cell_type": "code",
   "execution_count": null,
   "metadata": {},
   "outputs": [],
   "source": [
    "# Use your previous function `calc_temps` to calculate the tmin, tavg, and tmax \n",
    "# for your trip using the previous year's data for those same dates.\n"
   ]
  },
  {
   "cell_type": "code",
   "execution_count": null,
   "metadata": {},
   "outputs": [],
   "source": [
    "# Plot the results from your previous query as a bar chart. \n",
    "# Use \"Trip Avg Temp\" as your Title\n",
    "# Use the average temperature for the y value\n",
    "# Use the peak-to-peak (tmax-tmin) value as the y error bar (yerr)\n"
   ]
  },
  {
   "cell_type": "code",
   "execution_count": null,
   "metadata": {},
   "outputs": [],
   "source": [
    "# Calculate the total amount of rainfall per weather station for your trip dates using the previous year's matching dates.\n",
    "# Sort this in descending order by precipitation amount and list the station, name, latitude, longitude, and elevation\n",
    "\n"
   ]
  },
  {
   "cell_type": "code",
   "execution_count": null,
   "metadata": {},
   "outputs": [],
   "source": [
    "# Create a query that will calculate the daily normals \n",
    "# (i.e. the averages for tmin, tmax, and tavg for all historic data matching a specific month and day)\n",
    "\n",
    "def daily_normals(date):\n",
    "    \"\"\"Daily Normals.\n",
    "    \n",
    "    Args:\n",
    "        date (str): A date string in the format '%m-%d'\n",
    "        \n",
    "    Returns:\n",
    "        A list of tuples containing the daily normals, tmin, tavg, and tmax\n",
    "    \n",
    "    \"\"\"\n",
    "    \n",
    "    sel = [func.min(Measurement.tobs), func.avg(Measurement.tobs), func.max(Measurement.tobs)]\n",
    "    return session.query(*sel).filter(func.strftime(\"%m-%d\", Measurement.date) == date).all()\n",
    "    \n",
    "daily_normals(\"01-01\")"
   ]
  },
  {
   "cell_type": "code",
   "execution_count": null,
   "metadata": {},
   "outputs": [],
   "source": [
    "# calculate the daily normals for your trip\n",
    "# push each tuple of calculations into a list called `normals`\n",
    "\n",
    "# Set the start and end date of the trip\n",
    "\n",
    "# Use the start and end date to create a range of dates\n",
    "\n",
    "# Stip off the year and save a list of %m-%d strings\n",
    "\n",
    "# Loop through the list of %m-%d strings and calculate the normals for each date\n"
   ]
  },
  {
   "cell_type": "code",
   "execution_count": null,
   "metadata": {},
   "outputs": [],
   "source": [
    "# Load the previous query results into a Pandas DataFrame and add the `trip_dates` range as the `date` index\n"
   ]
  },
  {
   "cell_type": "code",
   "execution_count": null,
   "metadata": {},
   "outputs": [],
   "source": [
    "# Plot the daily normals as an area plot with `stacked=False`\n"
   ]
  }
 ],
 "metadata": {
  "kernel_info": {
   "name": "python3"
  },
  "kernelspec": {
   "display_name": "Python 3",
   "language": "python",
   "name": "python3"
  },
  "language_info": {
   "codemirror_mode": {
    "name": "ipython",
    "version": 3
   },
   "file_extension": ".py",
   "mimetype": "text/x-python",
   "name": "python",
   "nbconvert_exporter": "python",
   "pygments_lexer": "ipython3",
   "version": "3.7.6"
  },
  "nteract": {
   "version": "0.12.3"
  },
  "varInspector": {
   "cols": {
    "lenName": 16,
    "lenType": 16,
    "lenVar": 40
   },
   "kernels_config": {
    "python": {
     "delete_cmd_postfix": "",
     "delete_cmd_prefix": "del ",
     "library": "var_list.py",
     "varRefreshCmd": "print(var_dic_list())"
    },
    "r": {
     "delete_cmd_postfix": ") ",
     "delete_cmd_prefix": "rm(",
     "library": "var_list.r",
     "varRefreshCmd": "cat(var_dic_list()) "
    }
   },
   "types_to_exclude": [
    "module",
    "function",
    "builtin_function_or_method",
    "instance",
    "_Feature"
   ],
   "window_display": false
  }
 },
 "nbformat": 4,
 "nbformat_minor": 2
}
